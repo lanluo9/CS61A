{
 "cells": [
  {
   "cell_type": "code",
   "execution_count": 12,
   "id": "9fe4ea74-7557-4a27-9b12-5ecfbd5ec03e",
   "metadata": {},
   "outputs": [],
   "source": [
    "import dice\n",
    "six_sided = dice.make_test_dice(2,3,4,5,6,1)"
   ]
  },
  {
   "cell_type": "code",
   "execution_count": 13,
   "id": "0895f0c6-7563-4dff-856a-37bcd3813219",
   "metadata": {},
   "outputs": [],
   "source": [
    "def roll_dice(num_rolls, dice=six_sided):\n",
    "    \"\"\"Simulate rolling the DICE exactly NUM_ROLLS > 0 times. Return the sum of\n",
    "    the outcomes unless any of the outcomes is 1. In that case, return 1.\n",
    "\n",
    "    num_rolls:  The number of dice rolls that will be made.\n",
    "    dice:       A function that simulates a single dice roll outcome.\n",
    "    \"\"\"\n",
    "    # These assert statements ensure that num_rolls is a positive integer.\n",
    "    assert type(num_rolls) == int, 'num_rolls must be an integer.'\n",
    "    assert num_rolls > 0, 'Must roll at least once.'\n",
    "    # BEGIN PROBLEM 1\n",
    "    \"*** YOUR CODE HERE ***\"\n",
    "    assert num_rolls > 0 and type(num_rolls)==int, 'num_rolls must be positive int'\n",
    "    dices = []\n",
    "    for i in range(num_rolls):\n",
    "        dice_i = dice()\n",
    "        dices.append(dice_i)\n",
    "    if 1 in dices:\n",
    "        return 1\n",
    "    return int(sum(dices))"
   ]
  },
  {
   "cell_type": "code",
   "execution_count": 15,
   "id": "d3766b7c-c4f2-4785-ac77-cee8f1bc413b",
   "metadata": {},
   "outputs": [
    {
     "data": {
      "text/plain": [
       "1"
      ]
     },
     "execution_count": 15,
     "metadata": {},
     "output_type": "execute_result"
    }
   ],
   "source": [
    "roll_dice(4, dice=six_sided)"
   ]
  },
  {
   "cell_type": "code",
   "execution_count": 43,
   "id": "2267f104-9191-4122-8922-1a67857a56ff",
   "metadata": {},
   "outputs": [
    {
     "data": {
      "text/plain": [
       "False"
      ]
     },
     "execution_count": 43,
     "metadata": {},
     "output_type": "execute_result"
    }
   ],
   "source": [
    "12345 // 1 % 10\n",
    "12345 // 10 % 10\n",
    "12345 // 100 % 10\n",
    "12345 // 1000 % 10\n",
    "12345 // 10000 % 10, 12345 // 10000 >= 1 # True\n",
    "# 12345 // 100000 % 10, 12345 // 100000 >= 1 # False"
   ]
  },
  {
   "cell_type": "code",
   "execution_count": null,
   "id": "fe798e60-8f65-4099-b58f-26e473abe659",
   "metadata": {},
   "outputs": [],
   "source": [
    "strat0 = lambda score, opponent: opponent % 10\n",
    "strat1 = lambda score, opponent: max((score // 10) - 4, 0)\n",
    "s0, s1 = hog.play(strat0, strat1, score0=71, score1=80, dice=always_seven)\n",
    "strat0 = 0\n",
    "strat1 = 4\n",
    "score1 = 108\n",
    "score0 = 71 + ((int((71**2 + 1) / 99 * 15) + 10)  % 30)"
   ]
  },
  {
   "cell_type": "code",
   "execution_count": 56,
   "id": "73ef4c6b-38a8-4f05-9e72-90868581fbab",
   "metadata": {},
   "outputs": [
    {
     "data": {
      "text/plain": [
       "94"
      ]
     },
     "execution_count": 56,
     "metadata": {},
     "output_type": "execute_result"
    }
   ],
   "source": [
    "71 + ((int((71**2 + 1) / 99 * 15) + 10)  % 30)"
   ]
  }
 ],
 "metadata": {
  "kernelspec": {
   "display_name": "Python 3 (ipykernel)",
   "language": "python",
   "name": "python3"
  },
  "language_info": {
   "codemirror_mode": {
    "name": "ipython",
    "version": 3
   },
   "file_extension": ".py",
   "mimetype": "text/x-python",
   "name": "python",
   "nbconvert_exporter": "python",
   "pygments_lexer": "ipython3",
   "version": "3.9.7"
  },
  "widgets": {
   "application/vnd.jupyter.widget-state+json": {
    "state": {},
    "version_major": 2,
    "version_minor": 0
   }
  }
 },
 "nbformat": 4,
 "nbformat_minor": 5
}
