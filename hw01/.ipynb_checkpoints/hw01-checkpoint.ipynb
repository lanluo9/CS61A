{
 "cells": [
  {
   "cell_type": "code",
   "execution_count": 40,
   "id": "5ecfd723-4fcd-4601-88ae-b6aff9596143",
   "metadata": {},
   "outputs": [],
   "source": [
    "def if_function(condition, true_result, false_result):\n",
    "    \"\"\"Return true_result if condition is a true value, and\n",
    "    false_result otherwise.\n",
    "\n",
    "    >>> if_function(True, 2, 3)\n",
    "    2\n",
    "    >>> if_function(False, 2, 3)\n",
    "    3\n",
    "    >>> if_function(3==2, 3+2, 3-2)\n",
    "    1\n",
    "    >>> if_function(3>2, 3+2, 3-2)\n",
    "    5\n",
    "    \"\"\"\n",
    "    if condition:\n",
    "        return true_result\n",
    "    else:\n",
    "        return false_result\n",
    "\n",
    "\n",
    "def with_if_statement():\n",
    "    \"\"\"\n",
    "    >>> result = with_if_statement()\n",
    "    47\n",
    "    >>> print(result)\n",
    "    None\n",
    "    \"\"\"\n",
    "    if cond():\n",
    "        return true_func()\n",
    "    else:\n",
    "        return false_func()\n",
    "\n",
    "def with_if_function():\n",
    "    \"\"\"\n",
    "    >>> result = with_if_function()\n",
    "    42\n",
    "    47\n",
    "    >>> print(result)\n",
    "    None\n",
    "    \"\"\"\n",
    "    return if_function(cond(), true_func(), false_func())\n",
    "\n",
    "def cond():\n",
    "    \"*** YOUR CODE HERE ***\"\n",
    "    False\n",
    "\n",
    "def true_func():\n",
    "    \"*** YOUR CODE HERE ***\"\n",
    "    print(42)\n",
    "\n",
    "def false_func():\n",
    "    \"*** YOUR CODE HERE ***\"\n",
    "    print(47)"
   ]
  },
  {
   "cell_type": "code",
   "execution_count": 42,
   "id": "28ba8533-bb9f-45c2-b5b3-eb3a4dc8c263",
   "metadata": {},
   "outputs": [
    {
     "name": "stdout",
     "output_type": "stream",
     "text": [
      "47\n"
     ]
    }
   ],
   "source": [
    "re = with_if_statement()\n",
    "# re = with_if_function()"
   ]
  },
  {
   "cell_type": "code",
   "execution_count": 7,
   "id": "ff75aa9a-a3ff-46cf-ba9a-c8fa73a7323e",
   "metadata": {},
   "outputs": [],
   "source": [
    "def search(f):\n",
    "    \"\"\"Return the smallest non-negative integer x for which f(x) is a true value.\"\"\"\n",
    "    x = 0\n",
    "    while True:\n",
    "        if f(x):\n",
    "            return x\n",
    "        x += 1\n",
    "\n",
    "def square(x):\n",
    "    return x * x\n",
    "\n",
    "def invert(f):\n",
    "    \"\"\"Return a function g(y) that returns x such that f(x) == y.\n",
    "\n",
    "    >>> sqrt = invert(square)\n",
    "    >>> sqrt(16)\n",
    "    4\n",
    "    \"\"\"\n",
    "    return lambda y: search(lambda x: f(x) == y)"
   ]
  },
  {
   "cell_type": "code",
   "execution_count": 8,
   "id": "47dc8d5e-b4a9-4139-bcf7-a66ddb105a88",
   "metadata": {},
   "outputs": [
    {
     "data": {
      "text/plain": [
       "4"
      ]
     },
     "execution_count": 8,
     "metadata": {},
     "output_type": "execute_result"
    }
   ],
   "source": [
    "sqrt = invert(square)\n",
    "sqrt(16)"
   ]
  }
 ],
 "metadata": {
  "kernelspec": {
   "display_name": "Python 3 (ipykernel)",
   "language": "python",
   "name": "python3"
  },
  "language_info": {
   "codemirror_mode": {
    "name": "ipython",
    "version": 3
   },
   "file_extension": ".py",
   "mimetype": "text/x-python",
   "name": "python",
   "nbconvert_exporter": "python",
   "pygments_lexer": "ipython3",
   "version": "3.9.7"
  },
  "widgets": {
   "application/vnd.jupyter.widget-state+json": {
    "state": {},
    "version_major": 2,
    "version_minor": 0
   }
  }
 },
 "nbformat": 4,
 "nbformat_minor": 5
}
