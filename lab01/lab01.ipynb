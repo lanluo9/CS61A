{
 "cells": [
  {
   "cell_type": "code",
   "execution_count": 4,
   "id": "c134047b-a9cb-44a2-be4b-b2168594ea2b",
   "metadata": {},
   "outputs": [
    {
     "data": {
      "text/plain": [
       "True"
      ]
     },
     "execution_count": 4,
     "metadata": {},
     "output_type": "execute_result"
    }
   ],
   "source": [
    "not None"
   ]
  },
  {
   "cell_type": "code",
   "execution_count": 12,
   "id": "f611ae8d-45b5-40b3-a8fd-9aba4d385c2d",
   "metadata": {},
   "outputs": [],
   "source": [
    "def add_in_range(start, stop):\n",
    "    \"\"\"\n",
    "    >>> add_in_range(3, 5)  # .Case 1\n",
    "    12\n",
    "    >>> add_in_range(1, 10)  # .Case 2\n",
    "    55\n",
    "    \"\"\"\n",
    "    \"*** YOUR CODE HERE ***\"\n",
    "    re = 0\n",
    "    for i in range(start, stop+1):\n",
    "        re = re + i\n",
    "    return re\n",
    "assert add_in_range(3, 5) == 12\n",
    "assert add_in_range(1, 10) == 55"
   ]
  },
  {
   "cell_type": "code",
   "execution_count": 17,
   "id": "5286f756-def4-4c67-9775-457d3bb30a98",
   "metadata": {},
   "outputs": [
    {
     "data": {
      "text/plain": [
       "(True, False, True, False)"
      ]
     },
     "execution_count": 17,
     "metadata": {},
     "output_type": "execute_result"
    }
   ],
   "source": [
    "def digit_pos_match(n, k):\n",
    "    \"\"\"\n",
    "    determine if a number n has a digit-position match at a kth-to-last digit k.\n",
    "    >>> digit_pos_match(980, 0) # .Case 1\n",
    "    True\n",
    "    >>> digit_pos_match(980, 2) # .Case 2\n",
    "    False\n",
    "    >>> digit_pos_match(98276, 2) # .Case 3\n",
    "    True\n",
    "    >>> digit_pos_match(98276, 3) # .Case 4\n",
    "    False\n",
    "    \"\"\"\n",
    "    \"*** YOUR CODE HERE ***\"\n",
    "    str_n = str(n)\n",
    "    rev_n = str_n[::-1]\n",
    "    try: \n",
    "        k_digit = int(rev_n[k])\n",
    "    except: # in case n is too short to have kth-to-last digit\n",
    "        match = False\n",
    "    match = k_digit == k\n",
    "    return match\n",
    "\n",
    "digit_pos_match(980, 0), digit_pos_match(980, 2), digit_pos_match(98276, 2), digit_pos_match(98276, 3)"
   ]
  },
  {
   "cell_type": "code",
   "execution_count": 36,
   "id": "4bd7ee40-3019-46f5-984a-d6d4ad3ec057",
   "metadata": {},
   "outputs": [
    {
     "data": {
      "text/plain": [
       "(0, 2, 2, 0)"
      ]
     },
     "execution_count": 36,
     "metadata": {},
     "output_type": "execute_result"
    }
   ],
   "source": [
    "def k_occurrence(k, num):\n",
    "    \"\"\"\n",
    "    returns the number of times the digit k appears in num. \n",
    "    0 is considered to have no digits.\n",
    "    \n",
    "    >>> k_occurrence(5, 10)  # .Case 1\n",
    "    0\n",
    "    >>> k_occurrence(5, 5115)  # .Case 2\n",
    "    2\n",
    "    >>> k_occurrence(0, 100)  # .Case 3\n",
    "    2\n",
    "    >>> k_occurrence(0, 0)  # .Case 4\n",
    "    0\n",
    "    \"\"\"\n",
    "    \"*** YOUR CODE HERE ***\"\n",
    "    if num == 0:\n",
    "        re = 0\n",
    "    else:\n",
    "        import numpy as np\n",
    "        digits = [int(i) for i in list(str(num))]\n",
    "        digits = np.array(digits)\n",
    "        re = sum(digits == k)\n",
    "    return re\n",
    "\n",
    "k_occurrence(5, 10), k_occurrence(5, 5115), k_occurrence(0, 100), k_occurrence(0, 0)"
   ]
  }
 ],
 "metadata": {
  "kernelspec": {
   "display_name": "Python 3 (ipykernel)",
   "language": "python",
   "name": "python3"
  },
  "language_info": {
   "codemirror_mode": {
    "name": "ipython",
    "version": 3
   },
   "file_extension": ".py",
   "mimetype": "text/x-python",
   "name": "python",
   "nbconvert_exporter": "python",
   "pygments_lexer": "ipython3",
   "version": "3.9.7"
  },
  "widgets": {
   "application/vnd.jupyter.widget-state+json": {
    "state": {},
    "version_major": 2,
    "version_minor": 0
   }
  }
 },
 "nbformat": 4,
 "nbformat_minor": 5
}
